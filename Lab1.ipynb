{
 "cells": [
  {
   "cell_type": "code",
   "execution_count": 2,
   "metadata": {},
   "outputs": [],
   "source": [
    "import pandas as pd\n",
    "import numpy as np\n",
    "import matplotlib.pyplot as plt\n",
    "import re"
   ]
  },
  {
   "cell_type": "markdown",
   "metadata": {},
   "source": [
    "artist_id to name\n",
    "暂时不用"
   ]
  },
  {
   "cell_type": "raw",
   "metadata": {
    "collapsed": true
   },
   "source": [
    "id2art = {}\n",
    "n=0\n",
    "eno =0\n",
    "dno =0\n",
    "with open(\"artist_data.txt\",encoding=\"utf8\") as f:\n",
    "    for l in f:\n",
    "        n +=1\n",
    "        m = re.match(r\"(\\d+)(?:\\t|\\s{2,})(\\S.*)\",l)\n",
    "        eles = m.groups() if m is not None else () \n",
    "        if len(eles) is 2:\n",
    "            if id2art.get(eles[0]) is None:    \n",
    "                id2art[eles[0]] = eles[1]\n",
    "            else:\n",
    "                dno +=1\n",
    "                print(str(n)+\" - duplicate: \"+l+\"[\"+id2art[eles[0]]+\"]\") # 无重复\n",
    "        else:\n",
    "            eno+=1\n",
    "            print(str(n)+\" - error: \"+l)\n",
    "print(\"error count : \"+str(eno))\n",
    "print(\"dupli count : \"+str(dno))\n",
    "print(\"lines count : \"+str(n))\n",
    "\n",
    "\"\"\"\n",
    "error count : 434\n",
    "dupli count : 0\n",
    "lines count : 1848707\n",
    "\"\"\""
   ]
  },
  {
   "cell_type": "markdown",
   "metadata": {},
   "source": [
    "## artist_id 别名规范化字典\n",
    "alias_map 别名 -> 实名 "
   ]
  },
  {
   "cell_type": "code",
   "execution_count": 2,
   "metadata": {},
   "outputs": [
    {
     "name": "stdout",
     "output_type": "stream",
     "text": [
      "error count : 2135\n",
      "dupli count : 0\n",
      "lines count : 193027\n"
     ]
    },
    {
     "data": {
      "text/plain": [
       "'\\nerror count : 2135\\ndupli count : 0\\nlines count : 193027\\n'"
      ]
     },
     "execution_count": 2,
     "metadata": {},
     "output_type": "execute_result"
    }
   ],
   "source": [
    "alias_map ={}\n",
    "n=0\n",
    "eno =0\n",
    "dno =0\n",
    "with open(\"artist_alias.txt\",encoding=\"utf8\") as f:\n",
    "    for l in f:\n",
    "        n=n+1\n",
    "        m = re.match(r\"(\\d+)\\t(\\d+)\",l)\n",
    "        eles = m.groups() if m is not None else () \n",
    "        if len(eles) is 2:\n",
    "            if alias_map.get(eles[0]) is None:    \n",
    "                alias_map[eles[0]] = eles[1]\n",
    "            else:\n",
    "                dno +=1\n",
    "#                 print(str(n)+\" - duplicate: \"+l+\"[\"+alias_map[eles[0]]+\"]\")\n",
    "        else:\n",
    "            eno+=1\n",
    "#             print(str(n)+\" - error: \"+l)\n",
    "print(\"error count : \"+str(eno))\n",
    "print(\"dupli count : \"+str(dno))\n",
    "print(\"lines count : \"+str(n))\n",
    "\n",
    "\"\"\"\n",
    "error count : 2135\n",
    "dupli count : 0\n",
    "lines count : 193027\n",
    "\"\"\"\n",
    "\n",
    "np.save(\"obj/alias_map.npy\",alias_map)"
   ]
  },
  {
   "cell_type": "markdown",
   "metadata": {},
   "source": [
    "# 1. 从文件中构造原始矩阵"
   ]
  },
  {
   "cell_type": "code",
   "execution_count": 3,
   "metadata": {},
   "outputs": [],
   "source": [
    "alias_map = np.load(\"obj/alias_map.npy\",allow_pickle=True).item()"
   ]
  },
  {
   "cell_type": "code",
   "execution_count": 10,
   "metadata": {},
   "outputs": [
    {
     "name": "stdout",
     "output_type": "stream",
     "text": [
      "error count : 00\n",
      "lines count : 24296858\n"
     ]
    }
   ],
   "source": [
    "\"\"\"\n",
    "记录id到矩阵索引的映射\n",
    "\"\"\"\n",
    "user_id_index = {}\n",
    "user_cnt = 0 # index 计数\n",
    "artist_id_index = {}\n",
    "artist_cnt = 0 # index 计数\n",
    "\n",
    "\n",
    "# 测试集保留\n",
    "test = {}  #（ (user,artist) : score )\n",
    "# 训练集记录\n",
    "train_map = {}  # ((user_index,artist_index) : score)\n",
    "\n",
    "# 构造训练集和测试集\n",
    "import random\n",
    "def add_item(user, artist, score):\n",
    "    \"\"\"\n",
    "    需要 alias_map\n",
    "    20%几率将数据置0，作为测试集\n",
    "    \"\"\"\n",
    "    # artist 别名规范化\n",
    "    artist = alias_map.get(artist,artist)\n",
    "    \n",
    "    # 测试集：从训练集中随机抽取20%记录score作为测试，并置score=0写入训练集\n",
    "    import random\n",
    "    if random.random() < 0.2:\n",
    "        test[(user,artist)] = score\n",
    "        score = 0\n",
    "        \n",
    "    # 训练集\n",
    "    '''\n",
    "    user in index ? index : new index, new row\n",
    "    artist in index ? index : new index, new col\n",
    "    '''\n",
    "    global user_cnt\n",
    "    user_index=user_cnt\n",
    "    if user in user_id_index:\n",
    "        user_index = user_id_index[user]\n",
    "    else:\n",
    "        user_id_index[user] = user_index\n",
    "        user_cnt +=1\n",
    "        \n",
    "    global artist_cnt\n",
    "    artist_index=artist_cnt\n",
    "    if artist in artist_id_index:\n",
    "        artist_index = artist_id_index[artist]\n",
    "    else:\n",
    "        artist_id_index[artist] = artist_index\n",
    "        artist_cnt +=1\n",
    "    \n",
    "    return (user_index,artist_index),score\n",
    "\n",
    "\n",
    "# 读取文件\n",
    "n=0\n",
    "eno =0\n",
    "\n",
    "import random\n",
    "\n",
    "with open(\"user_artist_data.txt\",encoding=\"utf8\") as f:\n",
    "    # 文件总计2400+w行\n",
    "    for l in f:\n",
    "#         if random.random() < 0.1:\n",
    "            n=n+1\n",
    "            m = re.match(r\"(\\d+) (\\d+) (\\d+)\",l)\n",
    "            eles = m.groups() if m is not None else () \n",
    "            if len(eles) is 3:\n",
    "                key,value = add_item(eles[0], eles[1], int(eles[2]))\n",
    "                train_map[key] = value\n",
    "            else:\n",
    "                eno+=1\n",
    "    #             print(str(n)+\" - error: \"+l)\n",
    "            if n%100000 is 0:\n",
    "                print(f\"compete {n}\", end=\"\\r\")\n",
    "\n",
    "print(\"error count : \"+str(eno))\n",
    "print(\"lines count : \"+str(n))"
   ]
  },
  {
   "cell_type": "code",
   "execution_count": 15,
   "metadata": {},
   "outputs": [
    {
     "data": {
      "text/plain": [
       "dict_keys"
      ]
     },
     "execution_count": 15,
     "metadata": {},
     "output_type": "execute_result"
    }
   ],
   "source": [
    "type(train_map.keys())"
   ]
  },
  {
   "cell_type": "code",
   "execution_count": 29,
   "metadata": {},
   "outputs": [],
   "source": [
    "index = pd.DataFrame( [ [_[0],_[1]] for _ in train_map.keys()] , columns=['user','item'])"
   ]
  },
  {
   "cell_type": "code",
   "execution_count": 52,
   "metadata": {},
   "outputs": [
    {
     "data": {
      "text/plain": [
       "44533     2\n",
       "70495     2\n",
       "19760     2\n",
       "10952     2\n",
       "68734     2\n",
       "135997    2\n",
       "20856     2\n",
       "4345      2\n",
       "9899      2\n",
       "35919     2\n",
       "51536     2\n",
       "68618     2\n",
       "118977    2\n",
       "35916     2\n",
       "51770     2\n",
       "64225     2\n",
       "134410    2\n",
       "91807     2\n",
       "59451     2\n",
       "124999    2\n",
       "135560    2\n",
       "60408     2\n",
       "15131     2\n",
       "146257    2\n",
       "10366     2\n",
       "146107    2\n",
       "80388     2\n",
       "53620     2\n",
       "141422    2\n",
       "43916     2\n",
       "         ..\n",
       "20786     1\n",
       "6144      1\n",
       "58309     1\n",
       "135550    1\n",
       "140188    1\n",
       "61226     1\n",
       "120894    1\n",
       "66295     1\n",
       "84496     1\n",
       "71720     1\n",
       "95368     1\n",
       "107493    1\n",
       "43079     1\n",
       "113764    1\n",
       "147809    1\n",
       "130154    1\n",
       "4405      1\n",
       "131738    1\n",
       "141330    1\n",
       "71735     1\n",
       "108652    1\n",
       "62655     1\n",
       "123893    1\n",
       "65174     1\n",
       "18997     1\n",
       "296       1\n",
       "144600    1\n",
       "20794     1\n",
       "104490    1\n",
       "73482     1\n",
       "Name: user, Length: 5755, dtype: int64"
      ]
     },
     "execution_count": 52,
     "metadata": {},
     "output_type": "execute_result"
    }
   ],
   "source": [
    "# 听歌很少的人\n",
    "index[\"user\"].value_counts()[ index[\"user\"].value_counts() <= 2]"
   ]
  },
  {
   "cell_type": "code",
   "execution_count": 55,
   "metadata": {},
   "outputs": [
    {
     "data": {
      "text/plain": [
       "583885     2\n",
       "1039980    2\n",
       "1036953    2\n",
       "908687     2\n",
       "920281     2\n",
       "776477     2\n",
       "892435     2\n",
       "960542     2\n",
       "352049     2\n",
       "1026107    2\n",
       "529583     2\n",
       "1055514    2\n",
       "699067     2\n",
       "298015     2\n",
       "417622     2\n",
       "859703     2\n",
       "809106     2\n",
       "1113207    2\n",
       "610883     2\n",
       "1056596    2\n",
       "1153830    2\n",
       "774681     2\n",
       "166732     2\n",
       "514204     2\n",
       "1248998    2\n",
       "822555     2\n",
       "1103605    2\n",
       "1265390    2\n",
       "1236428    2\n",
       "1105740    2\n",
       "          ..\n",
       "320709     1\n",
       "287957     1\n",
       "271581     1\n",
       "369901     1\n",
       "402589     1\n",
       "337149     1\n",
       "713989     1\n",
       "681237     1\n",
       "664861     1\n",
       "779557     1\n",
       "746805     1\n",
       "517285     1\n",
       "418965     1\n",
       "1337044    1\n",
       "140317     1\n",
       "1320668    1\n",
       "1435364    1\n",
       "1418988    1\n",
       "1402612    1\n",
       "1386236    1\n",
       "156693     1\n",
       "222261     1\n",
       "435341     1\n",
       "205885     1\n",
       "58437      1\n",
       "1212344    1\n",
       "1195952    1\n",
       "107629     1\n",
       "1245096    1\n",
       "1089012    1\n",
       "Name: item, Length: 1195685, dtype: int64"
      ]
     },
     "execution_count": 55,
     "metadata": {},
     "output_type": "execute_result"
    }
   ],
   "source": [
    "# 小众歌曲\n",
    "index[\"item\"].value_counts()[ index[\"item\"].value_counts() <= 2]"
   ]
  },
  {
   "cell_type": "code",
   "execution_count": 57,
   "metadata": {},
   "outputs": [],
   "source": [
    "unpop_music = set( index[\"item\"].value_counts()[ index[\"item\"].value_counts() <= 2].index )"
   ]
  },
  {
   "cell_type": "code",
   "execution_count": 60,
   "metadata": {},
   "outputs": [],
   "source": [
    "train_map_pop = {key: value for key, value in train_map.items() if key[1] not in unpop_music}"
   ]
  },
  {
   "cell_type": "code",
   "execution_count": 48,
   "metadata": {},
   "outputs": [],
   "source": [
    "m_valid_set = set( [ _[0] for _ in train_map.keys() ] )"
   ]
  },
  {
   "cell_type": "code",
   "execution_count": 50,
   "metadata": {},
   "outputs": [
    {
     "data": {
      "text/plain": [
       "148111"
      ]
     },
     "execution_count": 50,
     "metadata": {},
     "output_type": "execute_result"
    }
   ],
   "source": [
    "len(m_valid_set)"
   ]
  },
  {
   "cell_type": "code",
   "execution_count": 51,
   "metadata": {},
   "outputs": [],
   "source": [
    "n_valid_set = set( [ _[1] for _ in train_map.keys() ] )"
   ]
  },
  {
   "cell_type": "code",
   "execution_count": 52,
   "metadata": {},
   "outputs": [
    {
     "data": {
      "text/plain": [
       "1568126"
      ]
     },
     "execution_count": 52,
     "metadata": {},
     "output_type": "execute_result"
    }
   ],
   "source": [
    "len(n_valid_set)"
   ]
  },
  {
   "cell_type": "code",
   "execution_count": 69,
   "metadata": {},
   "outputs": [],
   "source": [
    "artist_cnt_pop = len( set( [ _[1] for _ in train_map_pop.keys() ] ) ) "
   ]
  },
  {
   "cell_type": "code",
   "execution_count": null,
   "metadata": {},
   "outputs": [],
   "source": []
  },
  {
   "cell_type": "code",
   "execution_count": null,
   "metadata": {},
   "outputs": [],
   "source": []
  },
  {
   "cell_type": "raw",
   "metadata": {},
   "source": [
    "# 训练集矩阵构造\n",
    "train = np.empty([user_cnt,artist_cnt])\n",
    "\n",
    "for t in train_list:\n",
    "    train[t[0],t[1]] = t[2]\n",
    "\n",
    "# 释放内存\n",
    "del train_list\n",
    "import gc\n",
    "gc.collect()"
   ]
  },
  {
   "cell_type": "markdown",
   "metadata": {},
   "source": [
    "# 2. 矩阵分解"
   ]
  },
  {
   "cell_type": "raw",
   "metadata": {},
   "source": [
    "## 2.1 UV矩阵初始化"
   ]
  },
  {
   "cell_type": "raw",
   "metadata": {},
   "source": [
    "def f(x,m,m_bin,k):\n",
    "    \"\"\"\n",
    "    x: 自变量\n",
    "    m: 待分解矩阵\n",
    "    m_bin: 二值化m，用于过滤0值\n",
    "    k: 隐含因子数量\n",
    "    \"\"\"\n",
    "    mtr = m - k*x**2 \n",
    "    mtr = np.multiply(mtr,m_bin)\n",
    "    return np.sum(mtr**2)"
   ]
  },
  {
   "cell_type": "raw",
   "metadata": {},
   "source": [
    "def init_uv(matrix,m,k,n,min_bound,max_bound):\n",
    "    from scipy.optimize import fminbound\n",
    "    \n",
    "    u = np.ones((m,k))\n",
    "    v = np.ones((k,n))\n",
    "    \n",
    "    m_bin = np.int64(matrix>0)\n",
    "    min_x = fminbound(f,min_bound,max_bound,args=[matrix,m_bin,u,v],xtol=0.01,maxfun=50)\n",
    "    \n",
    "    x=np.linspace(min_bound,max_bound,num=50)\n",
    "    plt.plot(x,[f(_) for _ in x ])\n",
    "    plt.show()\n",
    "    \n",
    "    return u.dot(min_x), v.dot(min_x), min_x"
   ]
  },
  {
   "cell_type": "markdown",
   "metadata": {},
   "source": [
    "## 2.2 UV 分解 "
   ]
  },
  {
   "cell_type": "markdown",
   "metadata": {},
   "source": [
    "train 为原始矩阵 $M$\n",
    "\n",
    "UV 分解即  $M \\approx UV = P $\n",
    "\n",
    "初始化 UV 矩阵 分别为 $m*k, k*n$"
   ]
  },
  {
   "cell_type": "code",
   "execution_count": 70,
   "metadata": {},
   "outputs": [],
   "source": [
    "K = 5  # 隐含主题个数，经验值\n",
    "\n",
    "m,n = user_cnt,artist_cnt_pop\n",
    "\n",
    "# 初始化 U，V 矩阵为1\n",
    "global u,v\n",
    "u = np.ones((m,K))\n",
    "v = np.ones((K,n))"
   ]
  },
  {
   "cell_type": "markdown",
   "metadata": {},
   "source": [
    "对$u_{rs}$变化,使得𝑀和𝑈𝑉间𝑅𝑀𝑆𝐸最小, $u_{rs}$局部最优取值为$x$:\n",
    "\n",
    "$$ x = \\frac{\\sum_j v_{sj}( m_{rj} - \\sum_{k\\neq s} u_{rk}v_{kj} )}  \n",
    "            {\\sum_j v_{sj}^2  }  $$\n",
    "            \n",
    "对$V$类似"
   ]
  },
  {
   "cell_type": "code",
   "execution_count": 72,
   "metadata": {},
   "outputs": [],
   "source": [
    "# 减少重复计算，先存储分母\n",
    "down_sum_vsj = [ sum( [ (v[s,j])**2 for j in range(n) ] ) for s in range(K) ]"
   ]
  },
  {
   "cell_type": "code",
   "execution_count": 74,
   "metadata": {},
   "outputs": [
    {
     "name": "stdout",
     "output_type": "stream",
     "text": [
      "processing 36,2 in U .\r"
     ]
    },
    {
     "ename": "KeyboardInterrupt",
     "evalue": "",
     "output_type": "error",
     "traceback": [
      "\u001b[0;31m---------------------------------------------------------------------------\u001b[0m",
      "\u001b[0;31mKeyboardInterrupt\u001b[0m                         Traceback (most recent call last)",
      "\u001b[0;32m<ipython-input-74-54bcbc863d56>\u001b[0m in \u001b[0;36m<module>\u001b[0;34m\u001b[0m\n\u001b[1;32m      6\u001b[0m         \u001b[0;32mfor\u001b[0m \u001b[0mj\u001b[0m \u001b[0;32min\u001b[0m \u001b[0mrange\u001b[0m\u001b[0;34m(\u001b[0m\u001b[0mn\u001b[0m\u001b[0;34m)\u001b[0m\u001b[0;34m:\u001b[0m\u001b[0;34m\u001b[0m\u001b[0;34m\u001b[0m\u001b[0m\n\u001b[1;32m      7\u001b[0m             \u001b[0mvalue\u001b[0m \u001b[0;34m=\u001b[0m \u001b[0mtrain_map\u001b[0m\u001b[0;34m.\u001b[0m\u001b[0mget\u001b[0m\u001b[0;34m(\u001b[0m \u001b[0;34m(\u001b[0m\u001b[0mr\u001b[0m\u001b[0;34m,\u001b[0m\u001b[0mj\u001b[0m\u001b[0;34m)\u001b[0m\u001b[0;34m,\u001b[0m \u001b[0;36m0\u001b[0m \u001b[0;34m)\u001b[0m\u001b[0;34m\u001b[0m\u001b[0;34m\u001b[0m\u001b[0m\n\u001b[0;32m----> 8\u001b[0;31m             \u001b[0;32mif\u001b[0m \u001b[0mvalue\u001b[0m \u001b[0;34m>\u001b[0m \u001b[0;36m0\u001b[0m\u001b[0;34m:\u001b[0m\u001b[0;34m\u001b[0m\u001b[0;34m\u001b[0m\u001b[0m\n\u001b[0m\u001b[1;32m      9\u001b[0m                 \u001b[0muv_sum\u001b[0m \u001b[0;34m=\u001b[0m \u001b[0msum\u001b[0m\u001b[0;34m(\u001b[0m\u001b[0;34m[\u001b[0m \u001b[0mu\u001b[0m\u001b[0;34m[\u001b[0m\u001b[0mr\u001b[0m\u001b[0;34m,\u001b[0m\u001b[0mk\u001b[0m\u001b[0;34m]\u001b[0m\u001b[0;34m*\u001b[0m \u001b[0mv\u001b[0m\u001b[0;34m[\u001b[0m\u001b[0mk\u001b[0m\u001b[0;34m,\u001b[0m\u001b[0mj\u001b[0m\u001b[0;34m]\u001b[0m \u001b[0;32mfor\u001b[0m \u001b[0mk\u001b[0m \u001b[0;32min\u001b[0m \u001b[0mrange\u001b[0m\u001b[0;34m(\u001b[0m\u001b[0mK\u001b[0m\u001b[0;34m)\u001b[0m \u001b[0;32mif\u001b[0m \u001b[0mk\u001b[0m\u001b[0;34m!=\u001b[0m\u001b[0ms\u001b[0m \u001b[0;34m]\u001b[0m\u001b[0;34m)\u001b[0m\u001b[0;34m\u001b[0m\u001b[0;34m\u001b[0m\u001b[0m\n\u001b[1;32m     10\u001b[0m                 \u001b[0mup_sum\u001b[0m \u001b[0;34m+=\u001b[0m \u001b[0mv\u001b[0m\u001b[0;34m[\u001b[0m\u001b[0ms\u001b[0m\u001b[0;34m,\u001b[0m\u001b[0mj\u001b[0m\u001b[0;34m]\u001b[0m \u001b[0;34m*\u001b[0m \u001b[0;34m(\u001b[0m \u001b[0mvalue\u001b[0m \u001b[0;34m-\u001b[0m \u001b[0muv_sum\u001b[0m \u001b[0;34m)\u001b[0m\u001b[0;34m\u001b[0m\u001b[0;34m\u001b[0m\u001b[0m\n",
      "\u001b[0;31mKeyboardInterrupt\u001b[0m: "
     ]
    }
   ],
   "source": [
    "for r in range(m):\n",
    "    for s in range(K):\n",
    "        # 遍历U每个位置\n",
    "        print( f\"processing {r},{s} in U .\", end=\"\\r\" )\n",
    "        up_sum = 0\n",
    "        for j in range(n):\n",
    "            value = train_map.get( (r,j), 0 )\n",
    "            if value > 0:\n",
    "                uv_sum = sum([ u[r,k]* v[k,j] for k in range(K) if k!=s ])\n",
    "                up_sum += v[s,j] * ( value - uv_sum )\n",
    "        u[r,s] = up_sum / down_sum_vsj[s] if down_sum_vsj[s] >0 else 0\n",
    "        \n",
    "np.save(\"obj/u.npy\",u)\n",
    "print(\"processing U completed.\")"
   ]
  },
  {
   "cell_type": "code",
   "execution_count": 94,
   "metadata": {},
   "outputs": [],
   "source": []
  },
  {
   "cell_type": "raw",
   "metadata": {},
   "source": [
    "# 多线程\n",
    "from concurrent.futures import ThreadPoolExecutor, as_completed, wait, ALL_COMPLETED\n",
    "\n",
    "def cal_U(r):\n",
    "    for s in range(K):\n",
    "        # 遍历U每个位置\n",
    "#         print( f\"processing {r},{s} in U .\", end=\"\\r\" )\n",
    "        up_sum = 0\n",
    "        for j in range(n):\n",
    "            value = train_map.get( (r,j), 0 )\n",
    "            if value > 0:\n",
    "                uv_sum = sum([ u[r,k]* v[k,j] for k in range(K) if k!=s ])\n",
    "                up_sum += v[s,j] * ( value - uv_sum )\n",
    "        u[r,s] = up_sum / down_sum_vsj[s] if down_sum_vsj[s] >0 else 0\n",
    "\n",
    "pool = ThreadPoolExecutor(max_workers=20)\n",
    "for r in range(0,m,20):\n",
    "    tasks = pool.map(cal_U, range(r,r+20))\n",
    "    wait(tasks,return_when=ALL_COMPLETED)\n",
    "    print( f\"processing {r}~{r+20} in U completed.\", end=\"\\r\" )\n",
    "        \n",
    "np.save(\"obj/u.npy\",u)\n",
    "print(\"processing U completed.\")\n"
   ]
  },
  {
   "attachments": {
    "image.png": {
     "image/png": "[encoded data removed]"
    }
   },
   "cell_type": "markdown",
   "metadata": {},
   "source": [
    "![image.png](attachment:image.png)\n"
   ]
  },
  {
   "cell_type": "code",
   "execution_count": 58,
   "metadata": {},
   "outputs": [],
   "source": [
    "# 减少重复计算，先存储分母\n",
    "down_sum_uir = [ sum( [ (v[r,i])**2 for i in range(m) ] ) for r in range(K) ]"
   ]
  },
  {
   "cell_type": "code",
   "execution_count": 70,
   "metadata": {
    "collapsed": true
   },
   "outputs": [
    {
     "name": "stdout",
     "output_type": "stream",
     "text": [
      "processing 0,200 in V \r"
     ]
    },
    {
     "ename": "KeyboardInterrupt",
     "evalue": "",
     "output_type": "error",
     "traceback": [
      "\u001b[0;31m---------------------------------------------------------------------------\u001b[0m",
      "\u001b[0;31mKeyboardInterrupt\u001b[0m                         Traceback (most recent call last)",
      "\u001b[0;32m<ipython-input-70-e31e1f99efac>\u001b[0m in \u001b[0;36m<module>\u001b[0;34m\u001b[0m\n\u001b[1;32m      7\u001b[0m             \u001b[0mvalue\u001b[0m \u001b[0;34m=\u001b[0m \u001b[0mtrain_map\u001b[0m\u001b[0;34m.\u001b[0m\u001b[0mget\u001b[0m\u001b[0;34m(\u001b[0m \u001b[0;34m(\u001b[0m\u001b[0mi\u001b[0m\u001b[0;34m,\u001b[0m\u001b[0ms\u001b[0m\u001b[0;34m)\u001b[0m\u001b[0;34m,\u001b[0m \u001b[0;36m0\u001b[0m \u001b[0;34m)\u001b[0m\u001b[0;34m\u001b[0m\u001b[0;34m\u001b[0m\u001b[0m\n\u001b[1;32m      8\u001b[0m             \u001b[0;32mif\u001b[0m \u001b[0mvalue\u001b[0m \u001b[0;34m>\u001b[0m \u001b[0;36m0\u001b[0m\u001b[0;34m:\u001b[0m\u001b[0;34m\u001b[0m\u001b[0;34m\u001b[0m\u001b[0m\n\u001b[0;32m----> 9\u001b[0;31m                 \u001b[0muv_sum\u001b[0m \u001b[0;34m=\u001b[0m \u001b[0msum\u001b[0m\u001b[0;34m(\u001b[0m\u001b[0;34m[\u001b[0m \u001b[0mu\u001b[0m\u001b[0;34m[\u001b[0m\u001b[0mi\u001b[0m\u001b[0;34m,\u001b[0m\u001b[0mk\u001b[0m\u001b[0;34m]\u001b[0m\u001b[0;34m*\u001b[0m \u001b[0mv\u001b[0m\u001b[0;34m[\u001b[0m\u001b[0mk\u001b[0m\u001b[0;34m,\u001b[0m\u001b[0ms\u001b[0m\u001b[0;34m]\u001b[0m \u001b[0;32mfor\u001b[0m \u001b[0mk\u001b[0m \u001b[0;32min\u001b[0m \u001b[0mrange\u001b[0m\u001b[0;34m(\u001b[0m\u001b[0mK\u001b[0m\u001b[0;34m)\u001b[0m \u001b[0;32mif\u001b[0m \u001b[0mk\u001b[0m\u001b[0;34m!=\u001b[0m\u001b[0mr\u001b[0m \u001b[0;34m]\u001b[0m\u001b[0;34m)\u001b[0m\u001b[0;34m\u001b[0m\u001b[0;34m\u001b[0m\u001b[0m\n\u001b[0m\u001b[1;32m     10\u001b[0m                 \u001b[0mup_sum\u001b[0m \u001b[0;34m+=\u001b[0m \u001b[0mu\u001b[0m\u001b[0;34m[\u001b[0m\u001b[0mi\u001b[0m\u001b[0;34m,\u001b[0m\u001b[0mr\u001b[0m\u001b[0;34m]\u001b[0m \u001b[0;34m*\u001b[0m \u001b[0;34m(\u001b[0m \u001b[0mvalue\u001b[0m \u001b[0;34m-\u001b[0m \u001b[0muv_sum\u001b[0m \u001b[0;34m)\u001b[0m\u001b[0;34m\u001b[0m\u001b[0;34m\u001b[0m\u001b[0m\n\u001b[1;32m     11\u001b[0m         \u001b[0mv\u001b[0m\u001b[0;34m[\u001b[0m\u001b[0mr\u001b[0m\u001b[0;34m,\u001b[0m\u001b[0ms\u001b[0m\u001b[0;34m]\u001b[0m \u001b[0;34m=\u001b[0m \u001b[0mup_sum\u001b[0m \u001b[0;34m/\u001b[0m \u001b[0mdown_sum_uir\u001b[0m\u001b[0;34m[\u001b[0m\u001b[0mr\u001b[0m\u001b[0;34m]\u001b[0m \u001b[0;32mif\u001b[0m \u001b[0mdown_sum_uir\u001b[0m\u001b[0;34m[\u001b[0m\u001b[0mr\u001b[0m\u001b[0;34m]\u001b[0m\u001b[0;34m>\u001b[0m\u001b[0;36m0\u001b[0m \u001b[0;32melse\u001b[0m \u001b[0;36m0\u001b[0m\u001b[0;34m\u001b[0m\u001b[0;34m\u001b[0m\u001b[0m\n",
      "\u001b[0;32m<ipython-input-70-e31e1f99efac>\u001b[0m in \u001b[0;36m<listcomp>\u001b[0;34m(.0)\u001b[0m\n\u001b[1;32m      7\u001b[0m             \u001b[0mvalue\u001b[0m \u001b[0;34m=\u001b[0m \u001b[0mtrain_map\u001b[0m\u001b[0;34m.\u001b[0m\u001b[0mget\u001b[0m\u001b[0;34m(\u001b[0m \u001b[0;34m(\u001b[0m\u001b[0mi\u001b[0m\u001b[0;34m,\u001b[0m\u001b[0ms\u001b[0m\u001b[0;34m)\u001b[0m\u001b[0;34m,\u001b[0m \u001b[0;36m0\u001b[0m \u001b[0;34m)\u001b[0m\u001b[0;34m\u001b[0m\u001b[0;34m\u001b[0m\u001b[0m\n\u001b[1;32m      8\u001b[0m             \u001b[0;32mif\u001b[0m \u001b[0mvalue\u001b[0m \u001b[0;34m>\u001b[0m \u001b[0;36m0\u001b[0m\u001b[0;34m:\u001b[0m\u001b[0;34m\u001b[0m\u001b[0;34m\u001b[0m\u001b[0m\n\u001b[0;32m----> 9\u001b[0;31m                 \u001b[0muv_sum\u001b[0m \u001b[0;34m=\u001b[0m \u001b[0msum\u001b[0m\u001b[0;34m(\u001b[0m\u001b[0;34m[\u001b[0m \u001b[0mu\u001b[0m\u001b[0;34m[\u001b[0m\u001b[0mi\u001b[0m\u001b[0;34m,\u001b[0m\u001b[0mk\u001b[0m\u001b[0;34m]\u001b[0m\u001b[0;34m*\u001b[0m \u001b[0mv\u001b[0m\u001b[0;34m[\u001b[0m\u001b[0mk\u001b[0m\u001b[0;34m,\u001b[0m\u001b[0ms\u001b[0m\u001b[0;34m]\u001b[0m \u001b[0;32mfor\u001b[0m \u001b[0mk\u001b[0m \u001b[0;32min\u001b[0m \u001b[0mrange\u001b[0m\u001b[0;34m(\u001b[0m\u001b[0mK\u001b[0m\u001b[0;34m)\u001b[0m \u001b[0;32mif\u001b[0m \u001b[0mk\u001b[0m\u001b[0;34m!=\u001b[0m\u001b[0mr\u001b[0m \u001b[0;34m]\u001b[0m\u001b[0;34m)\u001b[0m\u001b[0;34m\u001b[0m\u001b[0;34m\u001b[0m\u001b[0m\n\u001b[0m\u001b[1;32m     10\u001b[0m                 \u001b[0mup_sum\u001b[0m \u001b[0;34m+=\u001b[0m \u001b[0mu\u001b[0m\u001b[0;34m[\u001b[0m\u001b[0mi\u001b[0m\u001b[0;34m,\u001b[0m\u001b[0mr\u001b[0m\u001b[0;34m]\u001b[0m \u001b[0;34m*\u001b[0m \u001b[0;34m(\u001b[0m \u001b[0mvalue\u001b[0m \u001b[0;34m-\u001b[0m \u001b[0muv_sum\u001b[0m \u001b[0;34m)\u001b[0m\u001b[0;34m\u001b[0m\u001b[0;34m\u001b[0m\u001b[0m\n\u001b[1;32m     11\u001b[0m         \u001b[0mv\u001b[0m\u001b[0;34m[\u001b[0m\u001b[0mr\u001b[0m\u001b[0;34m,\u001b[0m\u001b[0ms\u001b[0m\u001b[0;34m]\u001b[0m \u001b[0;34m=\u001b[0m \u001b[0mup_sum\u001b[0m \u001b[0;34m/\u001b[0m \u001b[0mdown_sum_uir\u001b[0m\u001b[0;34m[\u001b[0m\u001b[0mr\u001b[0m\u001b[0;34m]\u001b[0m \u001b[0;32mif\u001b[0m \u001b[0mdown_sum_uir\u001b[0m\u001b[0;34m[\u001b[0m\u001b[0mr\u001b[0m\u001b[0;34m]\u001b[0m\u001b[0;34m>\u001b[0m\u001b[0;36m0\u001b[0m \u001b[0;32melse\u001b[0m \u001b[0;36m0\u001b[0m\u001b[0;34m\u001b[0m\u001b[0;34m\u001b[0m\u001b[0m\n",
      "\u001b[0;31mKeyboardInterrupt\u001b[0m: "
     ]
    }
   ],
   "source": [
    "for r in range(K):\n",
    "    for s in range(n):\n",
    "        # 遍历V每个位置\n",
    "        print( f\"processing {r},{s} in V \", end=\"\\r\" )\n",
    "        up_sum = 0\n",
    "        for i in range(m):\n",
    "            value = train_map.get( (i,s), 0 )\n",
    "            if value > 0:\n",
    "                uv_sum = sum([ u[i,k]* v[k,s] for k in range(K) if k!=r ])\n",
    "                up_sum += u[i,r] * ( value - uv_sum )\n",
    "        v[r,s] = up_sum / down_sum_uir[r] if down_sum_uir[r]>0 else 0\n",
    "        \n",
    "np.save(\"obj/v.npy\",v)\n",
    "print(\"processing V completed.\")"
   ]
  },
  {
   "cell_type": "code",
   "execution_count": null,
   "metadata": {},
   "outputs": [],
   "source": []
  },
  {
   "cell_type": "code",
   "execution_count": 69,
   "metadata": {},
   "outputs": [
    {
     "data": {
      "text/plain": [
       "array([0.00185763, 0.00227837, 0.00269893, 0.00311932, 0.00353952,\n",
       "       0.00395955, 0.00437941, 0.00479908, 0.00521858, 0.00563791])"
      ]
     },
     "execution_count": 69,
     "metadata": {},
     "output_type": "execute_result"
    }
   ],
   "source": [
    "u[0]"
   ]
  },
  {
   "cell_type": "code",
   "execution_count": 71,
   "metadata": {},
   "outputs": [
    {
     "data": {
      "text/plain": [
       "array([ 1.03878917e+00, -4.65453372e-04,  1.62140522e-04,  4.24161114e+00,\n",
       "        6.22998909e-01, -2.49712750e-04,  1.11139671e+00,  1.01567830e+00,\n",
       "        6.69085761e+00,  1.51305561e-02])"
      ]
     },
     "execution_count": 71,
     "metadata": {},
     "output_type": "execute_result"
    }
   ],
   "source": [
    "v[0,0:10]"
   ]
  },
  {
   "cell_type": "code",
   "execution_count": null,
   "metadata": {},
   "outputs": [],
   "source": []
  }
 ],
 "metadata": {
  "kernelspec": {
   "display_name": "Python 3",
   "language": "python",
   "name": "python3"
  },
  "language_info": {
   "codemirror_mode": {
    "name": "ipython",
    "version": 3
   },
   "file_extension": ".py",
   "mimetype": "text/x-python",
   "name": "python",
   "nbconvert_exporter": "python",
   "pygments_lexer": "ipython3",
   "version": "3.7.3"
  }
 },
 "nbformat": 4,
 "nbformat_minor": 2
}
