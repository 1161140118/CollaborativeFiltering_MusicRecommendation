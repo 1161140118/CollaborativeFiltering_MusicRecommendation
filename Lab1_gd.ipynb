{
 "cells": [
  {
   "cell_type": "code",
   "execution_count": 1,
   "metadata": {},
   "outputs": [],
   "source": [
    "import pandas as pd\n",
    "import numpy as np\n",
    "import matplotlib.pyplot as plt\n",
    "import re"
   ]
  },
  {
   "cell_type": "markdown",
   "metadata": {},
   "source": [
    "## artist_id 别名规范化字典\n",
    "alias_map 别名 -> 实名 "
   ]
  },
  {
   "cell_type": "code",
   "execution_count": 2,
   "metadata": {},
   "outputs": [],
   "source": [
    "alias_map = np.load(\"obj/alias_map.npy\",allow_pickle=True).item()"
   ]
  },
  {
   "cell_type": "markdown",
   "metadata": {},
   "source": [
    "# 1. 从文件中构造原始矩阵"
   ]
  },
  {
   "cell_type": "code",
   "execution_count": 3,
   "metadata": {},
   "outputs": [
    {
     "name": "stdout",
     "output_type": "stream",
     "text": [
      "error count : 00\n",
      "lines count : 24296858\n"
     ]
    }
   ],
   "source": [
    "\"\"\"\n",
    "记录id到矩阵索引的映射\n",
    "\"\"\"\n",
    "user_id_index = {}\n",
    "user_cnt = 0 # index 计数\n",
    "artist_id_index = {}\n",
    "artist_cnt = 0 # index 计数\n",
    "\n",
    "\n",
    "# 测试集保留\n",
    "test = {}  #（ (user,artist) : score )\n",
    "# 训练集记录\n",
    "train_map = {}  # ((user_index,artist_index) : score)\n",
    "\n",
    "# 构造训练集和测试集\n",
    "import random\n",
    "def add_item(user, artist, score):\n",
    "    \"\"\"\n",
    "    需要 alias_map\n",
    "    20%几率将数据置0，作为测试集\n",
    "    \"\"\"\n",
    "    # artist 别名规范化\n",
    "    artist = alias_map.get(artist,artist)\n",
    "    \n",
    "    # 测试集：从训练集中随机抽取20%记录score作为测试，并置score=0写入训练集\n",
    "    import random\n",
    "    if random.random() < 0.2:\n",
    "        test[(user,artist)] = score\n",
    "        score = 0\n",
    "        \n",
    "    # 训练集\n",
    "    '''\n",
    "    user in index ? index : new index, new row\n",
    "    artist in index ? index : new index, new col\n",
    "    '''\n",
    "    global user_cnt\n",
    "    user_index=user_cnt\n",
    "    if user in user_id_index:\n",
    "        user_index = user_id_index[user]\n",
    "    else:\n",
    "        user_id_index[user] = user_index\n",
    "        user_cnt +=1\n",
    "        \n",
    "    global artist_cnt\n",
    "    artist_index=artist_cnt\n",
    "    if artist in artist_id_index:\n",
    "        artist_index = artist_id_index[artist]\n",
    "    else:\n",
    "        artist_id_index[artist] = artist_index\n",
    "        artist_cnt +=1\n",
    "    \n",
    "    return (user_index,artist_index),score\n",
    "\n",
    "\n",
    "# 读取文件\n",
    "n=0\n",
    "eno =0\n",
    "\n",
    "import random\n",
    "\n",
    "with open(\"user_artist_data.txt\",encoding=\"utf8\") as f:\n",
    "    # 文件总计2400+w行\n",
    "    for l in f:\n",
    "#         if random.random() < 0.1:\n",
    "            n=n+1\n",
    "            m = re.match(r\"(\\d+) (\\d+) (\\d+)\",l)\n",
    "            eles = m.groups() if m is not None else () \n",
    "            if len(eles) is 3:\n",
    "                key,value = add_item(eles[0], eles[1], int(eles[2]))\n",
    "                train_map[key] = value\n",
    "            else:\n",
    "                eno+=1\n",
    "    #             print(str(n)+\" - error: \"+l)\n",
    "            if n%100000 is 0:\n",
    "                print(f\"compete {n}\", end=\"\\r\")\n",
    "\n",
    "print(\"error count : \"+str(eno))\n",
    "print(\"lines count : \"+str(n))"
   ]
  },
  {
   "cell_type": "markdown",
   "metadata": {},
   "source": [
    "# 2. 矩阵分解（梯度下降法）"
   ]
  },
  {
   "cell_type": "markdown",
   "metadata": {},
   "source": [
    "train_map 为原始矩阵 $M$\n",
    "\n",
    "分解即  $R \\approx PQ = \\hat{R} $\n",
    "\n",
    "初始化 $P Q$ 矩阵 分别为 $m*k, k*n$"
   ]
  },
  {
   "cell_type": "code",
   "execution_count": null,
   "metadata": {},
   "outputs": [],
   "source": [
    "# 定义隐含主题个数\n",
    "K = 5 \n",
    "# 初始化矩阵\n",
    "\n",
    "m,n = user_cnt, artist_cnt\n",
    "p = np.random.rand(m,K)\n",
    "q = np.random.rand(K,n)"
   ]
  },
  {
   "cell_type": "code",
   "execution_count": 29,
   "metadata": {},
   "outputs": [],
   "source": [
    "# 读取缓存矩阵，用于继续训练\n",
    "p = np.load(\"obj/p_gd.npy\",allow_pickle=True)\n",
    "q = np.load(\"obj/q_gd.npy\",allow_pickle=True)"
   ]
  },
  {
   "cell_type": "code",
   "execution_count": 33,
   "metadata": {},
   "outputs": [],
   "source": [
    "# 缓存矩阵，手动checkpoint\n",
    "np.save(\"obj/p_gd.npy\",p)\n",
    "np.save(\"obj/q_gd.npy\",q)"
   ]
  },
  {
   "cell_type": "code",
   "execution_count": 18,
   "metadata": {},
   "outputs": [],
   "source": [
    "import math\n",
    "def loger(x):\n",
    "    if x<=2:\n",
    "        return 1\n",
    "    else:\n",
    "        return np.log2(x)\n",
    "\n",
    "def astep(a=0.00001,b=0.001):\n",
    "    n = 0\n",
    "    loss = 0 # 初始化损失项\n",
    "    reg = 0 # 初始化正则项\n",
    "    for i,j in list( train_map.keys()):\n",
    "        if n%200000 == 0 :\n",
    "            print(f\"processing  {n/241333:.2f}%  loss = {loss + (b/2)*reg:.2f}\", end=\"\\r\")\n",
    "        n+=1\n",
    "        value = loger( train_map.get((i,j)) )\n",
    "        eij = value - np.dot(p[i,:],q[:,j])\n",
    "        if math.isinf(eij):\n",
    "            print(i,j,eij,reg,loss,n,p[i,:])\n",
    "            return loss\n",
    "        p[i,:] = p[i,:] + a*(eij*q[:,j] - b*p[i,:])\n",
    "        q[:,j] = q[:,j] + a*(eij*p[i,:] - b*q[:,j])\n",
    "        reg += np.sum( p[i,:]**2 + q[:,j]**2 )\n",
    "        loss += ( value - np.dot(p[i,:],q[:,j]) )**2\n",
    "    print(f\"processing  100%  loss = {loss + (b/2)*reg:.2f}\")\n",
    "    return loss + (b/2)*reg"
   ]
  },
  {
   "cell_type": "code",
   "execution_count": 49,
   "metadata": {},
   "outputs": [
    {
     "name": "stdout",
     "output_type": "stream",
     "text": [
      "processing  100%  loss = 81930759.5272\n",
      " 81934868.13228196\n",
      "processing  100%  loss = 78657425.5286\n",
      " 78661695.23638596\n",
      "processing  100%  loss = 76476311.0975\n",
      " 76480723.72115158\n",
      "processing  100%  loss = 74898442.5039\n",
      " 74902977.65066959\n",
      "processing  100%  loss = 73681153.1544\n",
      " 73685792.50292715\n"
     ]
    }
   ],
   "source": [
    "for i in range(5):\n",
    "    print(\"\\n\",astep())"
   ]
  },
  {
   "cell_type": "code",
   "execution_count": 13,
   "metadata": {},
   "outputs": [
    {
     "name": "stdout",
     "output_type": "stream",
     "text": [
      "processing  100%  loss = 60460950.4158\r"
     ]
    },
    {
     "data": {
      "text/plain": [
       "60460950.40692349"
      ]
     },
     "execution_count": 13,
     "metadata": {},
     "output_type": "execute_result"
    }
   ],
   "source": [
    "astep(a=0.001,b=0.001)"
   ]
  },
  {
   "cell_type": "code",
   "execution_count": 15,
   "metadata": {},
   "outputs": [
    {
     "name": "stdout",
     "output_type": "stream",
     "text": [
      "CPU times: user 10min 44s, sys: 9.17 s, total: 10min 53s\n",
      "Wall time: 10min 51s\n"
     ]
    },
    {
     "data": {
      "text/plain": [
       "50056531.234473065"
      ]
     },
     "execution_count": 15,
     "metadata": {},
     "output_type": "execute_result"
    }
   ],
   "source": [
    "%%time\n",
    "astep(a=0.005,b=0.001)"
   ]
  },
  {
   "cell_type": "code",
   "execution_count": 31,
   "metadata": {},
   "outputs": [
    {
     "name": "stdout",
     "output_type": "stream",
     "text": [
      "processing  100%  loss = 50027085.5968\n",
      "CPU times: user 10min 33s, sys: 11.4 s, total: 10min 45s\n",
      "Wall time: 10min 39s\n"
     ]
    },
    {
     "data": {
      "text/plain": [
       "50027085.59433063"
      ]
     },
     "execution_count": 31,
     "metadata": {},
     "output_type": "execute_result"
    }
   ],
   "source": [
    "%%time\n",
    "astep(a=0.002,b=0.001)"
   ]
  },
  {
   "cell_type": "code",
   "execution_count": 32,
   "metadata": {},
   "outputs": [
    {
     "name": "stdout",
     "output_type": "stream",
     "text": [
      "processing  100%  loss = 49627886.3693\n",
      "CPU times: user 10min 27s, sys: 17.8 s, total: 10min 45s\n",
      "Wall time: 10min 30s\n"
     ]
    },
    {
     "data": {
      "text/plain": [
       "49627886.36159738"
      ]
     },
     "execution_count": 32,
     "metadata": {},
     "output_type": "execute_result"
    }
   ],
   "source": [
    "%%time\n",
    "astep(a=0.002,b=0.001)"
   ]
  },
  {
   "cell_type": "code",
   "execution_count": 50,
   "metadata": {},
   "outputs": [],
   "source": [
    "loss_y = [81930759.5272,78657425.5286,76476311.0975,74898442.5039,73681153.1544,60460950.4158,50056531.234473065,50027085.5968,49627886.3693]\n",
    "alpha_x = np.cumsum([0.00001,0.00001,0.00001,0.00001,0.00001,0.001,0.005,0.002,0.002]) "
   ]
  },
  {
   "cell_type": "code",
   "execution_count": 51,
   "metadata": {},
   "outputs": [
    {
     "data": {
      "text/plain": [
       "[<matplotlib.lines.Line2D at 0x19a292198>]"
      ]
     },
     "execution_count": 51,
     "metadata": {},
     "output_type": "execute_result"
    },
    {
     "data": {
      "image/png": "[encoded data removed]",
      "text/plain": [
       "<Figure size 432x288 with 1 Axes>"
      ]
     },
     "metadata": {
      "needs_background": "light"
     },
     "output_type": "display_data"
    }
   ],
   "source": [
    "# 绘制 loos- cum_alpha （代价-累计学习率）曲线\n",
    "plt.plot(alpha_x,loss_y)"
   ]
  },
  {
   "cell_type": "code",
   "execution_count": null,
   "metadata": {},
   "outputs": [],
   "source": []
  },
  {
   "cell_type": "markdown",
   "metadata": {},
   "source": [
    "# 3. 测试与评价"
   ]
  },
  {
   "cell_type": "code",
   "execution_count": null,
   "metadata": {},
   "outputs": [],
   "source": []
  }
 ],
 "metadata": {
  "kernelspec": {
   "display_name": "Python 3",
   "language": "python",
   "name": "python3"
  },
  "language_info": {
   "codemirror_mode": {
    "name": "ipython",
    "version": 3
   },
   "file_extension": ".py",
   "mimetype": "text/x-python",
   "name": "python",
   "nbconvert_exporter": "python",
   "pygments_lexer": "ipython3",
   "version": "3.7.3"
  }
 },
 "nbformat": 4,
 "nbformat_minor": 2
}
